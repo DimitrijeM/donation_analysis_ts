{
 "cells": [
  {
   "cell_type": "code",
   "execution_count": 1,
   "metadata": {},
   "outputs": [],
   "source": [
    "import pandas as pd"
   ]
  },
  {
   "cell_type": "code",
   "execution_count": 2,
   "metadata": {},
   "outputs": [],
   "source": [
    "df = pd.read_excel('data/data Procena darovitosti.xlsx', sheet_name='Sheet1')"
   ]
  },
  {
   "cell_type": "code",
   "execution_count": 3,
   "metadata": {},
   "outputs": [
    {
     "data": {
      "text/html": [
       "<div>\n",
       "<style scoped>\n",
       "    .dataframe tbody tr th:only-of-type {\n",
       "        vertical-align: middle;\n",
       "    }\n",
       "\n",
       "    .dataframe tbody tr th {\n",
       "        vertical-align: top;\n",
       "    }\n",
       "\n",
       "    .dataframe thead th {\n",
       "        text-align: right;\n",
       "    }\n",
       "</style>\n",
       "<table border=\"1\" class=\"dataframe\">\n",
       "  <thead>\n",
       "    <tr style=\"text-align: right;\">\n",
       "      <th></th>\n",
       "      <th>RB</th>\n",
       "      <th>naspol</th>\n",
       "      <th>nasss</th>\n",
       "      <th>nastrs</th>\n",
       "      <th>nasvl</th>\n",
       "      <th>naslm</th>\n",
       "      <th>nasvp</th>\n",
       "      <th>nastk</th>\n",
       "      <th>nasmr</th>\n",
       "      <th>nasinter</th>\n",
       "      <th>...</th>\n",
       "      <th>ucetk</th>\n",
       "      <th>ucemr</th>\n",
       "      <th>uceinter</th>\n",
       "      <th>uceintra</th>\n",
       "      <th>ucepriro</th>\n",
       "      <th>ucefil</th>\n",
       "      <th>rpm</th>\n",
       "      <th>vs</th>\n",
       "      <th>shv</th>\n",
       "      <th>Rnasvl</th>\n",
       "    </tr>\n",
       "  </thead>\n",
       "  <tbody>\n",
       "    <tr>\n",
       "      <th>0</th>\n",
       "      <td>1</td>\n",
       "      <td>1</td>\n",
       "      <td>3</td>\n",
       "      <td>2</td>\n",
       "      <td>44</td>\n",
       "      <td>33</td>\n",
       "      <td>55</td>\n",
       "      <td>48</td>\n",
       "      <td>57</td>\n",
       "      <td>55</td>\n",
       "      <td>...</td>\n",
       "      <td>42</td>\n",
       "      <td>55</td>\n",
       "      <td>49</td>\n",
       "      <td>54</td>\n",
       "      <td>40</td>\n",
       "      <td>39</td>\n",
       "      <td>30</td>\n",
       "      <td>13</td>\n",
       "      <td>17</td>\n",
       "      <td>10.0</td>\n",
       "    </tr>\n",
       "    <tr>\n",
       "      <th>1</th>\n",
       "      <td>2</td>\n",
       "      <td>1</td>\n",
       "      <td>3</td>\n",
       "      <td>2</td>\n",
       "      <td>50</td>\n",
       "      <td>40</td>\n",
       "      <td>44</td>\n",
       "      <td>42</td>\n",
       "      <td>38</td>\n",
       "      <td>60</td>\n",
       "      <td>...</td>\n",
       "      <td>37</td>\n",
       "      <td>36</td>\n",
       "      <td>65</td>\n",
       "      <td>63</td>\n",
       "      <td>44</td>\n",
       "      <td>33</td>\n",
       "      <td>36</td>\n",
       "      <td>12</td>\n",
       "      <td>16</td>\n",
       "      <td>30.0</td>\n",
       "    </tr>\n",
       "    <tr>\n",
       "      <th>2</th>\n",
       "      <td>3</td>\n",
       "      <td>1</td>\n",
       "      <td>3</td>\n",
       "      <td>2</td>\n",
       "      <td>42</td>\n",
       "      <td>42</td>\n",
       "      <td>36</td>\n",
       "      <td>43</td>\n",
       "      <td>40</td>\n",
       "      <td>56</td>\n",
       "      <td>...</td>\n",
       "      <td>36</td>\n",
       "      <td>34</td>\n",
       "      <td>45</td>\n",
       "      <td>37</td>\n",
       "      <td>29</td>\n",
       "      <td>25</td>\n",
       "      <td>36</td>\n",
       "      <td>13</td>\n",
       "      <td>16</td>\n",
       "      <td>6.0</td>\n",
       "    </tr>\n",
       "    <tr>\n",
       "      <th>3</th>\n",
       "      <td>4</td>\n",
       "      <td>1</td>\n",
       "      <td>3</td>\n",
       "      <td>1</td>\n",
       "      <td>50</td>\n",
       "      <td>60</td>\n",
       "      <td>32</td>\n",
       "      <td>28</td>\n",
       "      <td>34</td>\n",
       "      <td>46</td>\n",
       "      <td>...</td>\n",
       "      <td>55</td>\n",
       "      <td>60</td>\n",
       "      <td>45</td>\n",
       "      <td>45</td>\n",
       "      <td>51</td>\n",
       "      <td>37</td>\n",
       "      <td>31</td>\n",
       "      <td>12</td>\n",
       "      <td>10</td>\n",
       "      <td>30.0</td>\n",
       "    </tr>\n",
       "    <tr>\n",
       "      <th>4</th>\n",
       "      <td>5</td>\n",
       "      <td>1</td>\n",
       "      <td>3</td>\n",
       "      <td>1</td>\n",
       "      <td>46</td>\n",
       "      <td>45</td>\n",
       "      <td>43</td>\n",
       "      <td>61</td>\n",
       "      <td>53</td>\n",
       "      <td>51</td>\n",
       "      <td>...</td>\n",
       "      <td>54</td>\n",
       "      <td>41</td>\n",
       "      <td>52</td>\n",
       "      <td>57</td>\n",
       "      <td>51</td>\n",
       "      <td>46</td>\n",
       "      <td>33</td>\n",
       "      <td>5</td>\n",
       "      <td>13</td>\n",
       "      <td>15.0</td>\n",
       "    </tr>\n",
       "  </tbody>\n",
       "</table>\n",
       "<p>5 rows × 50 columns</p>\n",
       "</div>"
      ],
      "text/plain": [
       "   RB  naspol  nasss  nastrs  nasvl  naslm  nasvp  nastk  nasmr  nasinter  \\\n",
       "0   1       1      3       2     44     33     55     48     57        55   \n",
       "1   2       1      3       2     50     40     44     42     38        60   \n",
       "2   3       1      3       2     42     42     36     43     40        56   \n",
       "3   4       1      3       1     50     60     32     28     34        46   \n",
       "4   5       1      3       1     46     45     43     61     53        51   \n",
       "\n",
       "   ...  ucetk  ucemr  uceinter  uceintra  ucepriro  ucefil  rpm  vs  shv  \\\n",
       "0  ...     42     55        49        54        40      39   30  13   17   \n",
       "1  ...     37     36        65        63        44      33   36  12   16   \n",
       "2  ...     36     34        45        37        29      25   36  13   16   \n",
       "3  ...     55     60        45        45        51      37   31  12   10   \n",
       "4  ...     54     41        52        57        51      46   33   5   13   \n",
       "\n",
       "   Rnasvl  \n",
       "0    10.0  \n",
       "1    30.0  \n",
       "2     6.0  \n",
       "3    30.0  \n",
       "4    15.0  \n",
       "\n",
       "[5 rows x 50 columns]"
      ]
     },
     "execution_count": 3,
     "metadata": {},
     "output_type": "execute_result"
    }
   ],
   "source": [
    "df.head()"
   ]
  },
  {
   "cell_type": "code",
   "execution_count": 4,
   "metadata": {},
   "outputs": [],
   "source": [
    "df.set_index('RB', inplace=True)"
   ]
  },
  {
   "cell_type": "markdown",
   "metadata": {},
   "source": [
    "## Strategije detekcije anomalija\n",
    "\n",
    "U nastavku biće navedene i ukratko objašnjene strategije i algoritmi koje planiram da koristim za detekciju anomalija nad učitanim skupom podataka."
   ]
  },
  {
   "cell_type": "markdown",
   "metadata": {},
   "source": [
    "### 1. Univarijantne strategije\n",
    "\n",
    "Ova grupa strategija jeste znatno jednostavnija od naredne. Pri ovom pristupu posmatramo svaki atribut posebno, ne i njihove kombinacije. Možemo probati 2 jako slična pristupa:\n",
    "1. Identifikacija anomalija na osnovu z-score\n",
    "2. Identifikacija anomalija na osnovu IQR-a (interkvartalni opseg)\n",
    "\n",
    "Oba pristupa su dobra samo u slučaju da su varijable normalno raspoređene, a rade loše se `iskošenim` raspodelama. S obzirom da u našem skupu postoji par desno-iskošenih raspodela, ove metode ćemo probati samo kao početnu tačku: postavićemo veliki prag kako bi identifikovali samo one koji imaju znatno veće odstupanje po nekom atributu (to obično budu neke greške u upisivanju podatka).\n",
    "\n",
    "Evo intuicije iza oba pristupa:\n",
    "\n",
    "#### 1.1. Z-score based anomaly detection\n",
    "Prvi pristup se zasniva na tome da, pod pretpostavkom da je varijabla normalno raspoređena, posmatramo anomalije kao tačke sa najvećim z-score-om (z score = koliko standardnih devijacija je tačka udaljena od srednje vrednosti). \n",
    "\n",
    "#### 1.2. IQR based anomaly detection\n",
    "Drugi pristup posmatra interkvartalni opseg (iqr = razlika između prvog i trećeg kvartila). Sve tačke koje su ispod `quartile_1 - iqr` ili iznad `quartile_3 + iqr`, posmatraju se kao anomalije.\n",
    "\n",
    "Više o ovim pristupima može se pročitati u [ovom blogu](http://colingorrie.github.io/outlier-detection.html)."
   ]
  },
  {
   "cell_type": "markdown",
   "metadata": {},
   "source": [
    "### 2. Multivarijantne strategije\n",
    "\n",
    "Grubo, ove algoritme možemo podeliti na tri osnovne grupe:\n",
    "1. Algoritmi zasnovani na najbližim susedima\n",
    "2. Algoritmi zasnovani na klasterovanju\n",
    "3. Algoritmi zasnovani na ansamblima"
   ]
  },
  {
   "cell_type": "markdown",
   "metadata": {},
   "source": [
    "#### 2.1. KNN-based anomaly detector\n",
    "\n",
    "Proračunava udaljenost tačke od svojih k-najbližih suseda. Za svaku tačku se kao njen anomaly_score koristi udaljenost od k suseda. Može se koristiti: \n",
    "- Udaljenost od najdaljeg od k suseda\n",
    "- Srednja udaljenost\n",
    "- Medijana udaljenosti\n",
    "\n",
    "Više o algoritmu i Python implementaciji može se pročitati u citiranim radovima i [dokumentaciji PyOD paketa](https://pyod.readthedocs.io/en/latest/pyod.models.html#module-pyod.models.knn)."
   ]
  },
  {
   "cell_type": "markdown",
   "metadata": {},
   "source": [
    "#### 2.2. Angle-Based Outlier Detection (ABOD)\n",
    "\n",
    "[Više o algoritmu](https://imada.sdu.dk/~zimek/publications/KDD2008/KDD08-ABOD.pdf) Može se reći da pripada grupi algoritama zasnovanim na susedima\n",
    "\n",
    "Intuicija: Posmatramo veze svake observacije sa ostalima tako što, umesto da računamo samo udaljenost, projektujemo vektore. Ako je spektar vektora veliki obzervacija nije outlier (u svim pravcima u odnosu na njega ima drugih zapisa). Ako su svi vektori ka jednoj strani onda je outlier.\n",
    "\n",
    "Postoji implementacija u Pythonu. Više u [dokumentaciji.](https://pyod.readthedocs.io/en/latest/pyod.models.html#module-pyod.models.abod)"
   ]
  },
  {
   "cell_type": "markdown",
   "metadata": {},
   "source": [
    "#### 2.3. Clustering-based anomaly detector\n",
    "\n",
    "Osnovna ideja: Podeliti podatke u klastere i kao anomaly_score koristiti udaljenost od centroida. \n",
    "\n",
    "Postoji Python implementacija i o njoj se više može pročitati [ovde](https://pyod.readthedocs.io/en/latest/pyod.models.html#module-pyod.models.cblof). \n",
    "\n",
    "Međutim poznato je da je k-means veoma pristrasan kada radi sa korelisanim podacima. Ideja je da pored klasične implementacije u Pythonu, probamo sledeći prilagođeni algoritam:\n",
    "1. Uraditi PCA\n",
    "2. Probati više clustering modela za različiti broj klastera nad glavnim komponentama\n",
    "3. Izabrati broj klastera\n",
    "4. Pustiti konačan klastering model i kao anomaly_score koristiti udaljenost od centroida\n",
    "5. Nakon uočenih anomalija, vratiti se u početni prostor\n",
    "\n",
    "O kombinaciji PCA i klasterovanja može se pročitati u [ovom radu](https://ieeexplore.ieee.org/document/7012911)."
   ]
  },
  {
   "cell_type": "markdown",
   "metadata": {},
   "source": [
    "#### 2.4. Isolation Forest\n",
    "\n",
    "Ansambli u službi otkrivanja anomalija. Ovo je prilagođena verzija algoritma Random Forest. Pravi slučajnu šumu stabala odlučivanja i kao anomaly_score posmatra koliko je obzervacija izolovana od ostalih (tako što meri sa još koliko drugih tačaka se našla u listu).\n",
    "\n",
    "[Više o algoritmu](http://www.extended-cognition.com/2018/11/15/multivariate-outlier-detection-with-isolation-forests/) [Originalni Rad](https://cs.nju.edu.cn/zhouzh/zhouzh.files/publication/tkdd11.pdf)\n",
    "\n",
    "[Python implementacija](https://pyod.readthedocs.io/en/latest/pyod.models.html#module-pyod.models.iforest)"
   ]
  }
 ],
 "metadata": {
  "kernelspec": {
   "display_name": "Python 3",
   "language": "python",
   "name": "python3"
  },
  "language_info": {
   "codemirror_mode": {
    "name": "ipython",
    "version": 3
   },
   "file_extension": ".py",
   "mimetype": "text/x-python",
   "name": "python",
   "nbconvert_exporter": "python",
   "pygments_lexer": "ipython3",
   "version": "3.6.8"
  },
  "varInspector": {
   "cols": {
    "lenName": 16,
    "lenType": 16,
    "lenVar": 40
   },
   "kernels_config": {
    "python": {
     "delete_cmd_postfix": "",
     "delete_cmd_prefix": "del ",
     "library": "var_list.py",
     "varRefreshCmd": "print(var_dic_list())"
    },
    "r": {
     "delete_cmd_postfix": ") ",
     "delete_cmd_prefix": "rm(",
     "library": "var_list.r",
     "varRefreshCmd": "cat(var_dic_list()) "
    }
   },
   "types_to_exclude": [
    "module",
    "function",
    "builtin_function_or_method",
    "instance",
    "_Feature"
   ],
   "window_display": false
  }
 },
 "nbformat": 4,
 "nbformat_minor": 2
}
